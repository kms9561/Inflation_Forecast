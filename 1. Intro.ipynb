{
 "cells": [
  {
   "cell_type": "markdown",
   "metadata": {
    "id": "jwMT9xqBplpA",
    "tags": []
   },
   "source": [
    "# Jupyter Lab & ipython notebook File"
   ]
  },
  {
   "cell_type": "markdown",
   "metadata": {
    "id": "hIN0AWUWuQGu",
    "tags": []
   },
   "source": [
    "## Cell Type\n",
    "\n",
    "- Code\n",
    "- Markdown/Text"
   ]
  },
  {
   "cell_type": "markdown",
   "metadata": {
    "id": "uUSqwNRIuTLX",
    "tags": []
   },
   "source": [
    "## Cell mode\n",
    "\n",
    "- Edit\n",
    "- Command"
   ]
  },
  {
   "cell_type": "markdown",
   "metadata": {
    "id": "6xAOkXo5plpC"
   },
   "source": [
    "## How to Execute cell\n",
    "\n",
    "- **Shift + Enter : Execute current cell then select below cell**\n",
    "- **Ctrl + Enter : Execute current cell then select current cell**\n",
    "- Alt + Enter : Execute current cell then add new cell below"
   ]
  },
  {
   "cell_type": "markdown",
   "metadata": {
    "id": "6xAOkXo5plpC"
   },
   "source": [
    "## Shortcut\n",
    "\n",
    "- Set at 'Menu-Tool-Shortcut'\n",
    "    - Cut cell: x\n",
    "    - Copy cell: c\n",
    "    - Paste cell: v\n",
    "    - Delete cell: d + d\n",
    "    - Insert new cell above: a\n",
    "    - Insert new cell below: b\n",
    "    - Convert cell to code: y\n",
    "    - Convert to markdown: m\n",
    "    - Calcel: z\n",
    "    - Merge selected cells: Ctrl + Shift + m\n",
    "    - **Split cells: Ctrl + Shift + -**\n",
    "    - **Comments on/off: Ctrl + /**"
   ]
  },
  {
   "cell_type": "markdown",
   "metadata": {
    "id": "2lDW_v4WplpF",
    "jp-MarkdownHeadingCollapsed": true,
    "tags": []
   },
   "source": [
    "# ★★★ Python Basic!★★★\n",
    "1. Datatype: int, float, bool, string, list, dict\n",
    "2. Grammar: def, for-loop, if-else, list comprehension\n",
    "3. Library: numpy, pandas, matplotlib, pytorch, ..."
   ]
  },
  {
   "cell_type": "markdown",
   "metadata": {
    "id": "2lDW_v4WplpF"
   },
   "source": [
    "# Basic data type"
   ]
  },
  {
   "cell_type": "markdown",
   "metadata": {
    "id": "FUzXR2ySplpG"
   },
   "source": [
    "## Integer, True/False, Text"
   ]
  },
  {
   "cell_type": "code",
   "execution_count": 1,
   "metadata": {
    "colab": {
     "base_uri": "https://localhost:8080/"
    },
    "id": "ibNHTrl8plpG",
    "outputId": "545cb8a9-d6f3-434e-f355-cb8c56c2c75a"
   },
   "outputs": [
    {
     "data": {
      "text/plain": [
       "1"
      ]
     },
     "execution_count": 1,
     "metadata": {},
     "output_type": "execute_result"
    }
   ],
   "source": [
    "1"
   ]
  },
  {
   "cell_type": "code",
   "execution_count": 3,
   "metadata": {
    "colab": {
     "base_uri": "https://localhost:8080/"
    },
    "id": "pXbt8obKplpG",
    "outputId": "c6103c6d-a431-43d3-f890-b5057dd4287d"
   },
   "outputs": [
    {
     "data": {
      "text/plain": [
       "int"
      ]
     },
     "execution_count": 3,
     "metadata": {},
     "output_type": "execute_result"
    }
   ],
   "source": [
    "type(1)"
   ]
  },
  {
   "cell_type": "code",
   "execution_count": 4,
   "metadata": {
    "colab": {
     "base_uri": "https://localhost:8080/"
    },
    "id": "q1E_vIBdplpG",
    "outputId": "360312db-3a6d-4d9a-e63a-e7679d121fd2"
   },
   "outputs": [
    {
     "data": {
      "text/plain": [
       "float"
      ]
     },
     "execution_count": 4,
     "metadata": {},
     "output_type": "execute_result"
    }
   ],
   "source": [
    "type(1.0)"
   ]
  },
  {
   "cell_type": "code",
   "execution_count": 5,
   "metadata": {
    "colab": {
     "base_uri": "https://localhost:8080/"
    },
    "id": "0xCcMW83plpH",
    "outputId": "ae976ab2-4675-49a3-87c5-05a807a2ff73"
   },
   "outputs": [
    {
     "data": {
      "text/plain": [
       "bool"
      ]
     },
     "execution_count": 5,
     "metadata": {},
     "output_type": "execute_result"
    }
   ],
   "source": [
    "type(False)"
   ]
  },
  {
   "cell_type": "code",
   "execution_count": 6,
   "metadata": {
    "colab": {
     "base_uri": "https://localhost:8080/"
    },
    "id": "gUOZPQrLplpH",
    "outputId": "b6726ba5-8e35-42b5-8a86-3fdab8889e23"
   },
   "outputs": [
    {
     "data": {
      "text/plain": [
       "str"
      ]
     },
     "execution_count": 6,
     "metadata": {},
     "output_type": "execute_result"
    }
   ],
   "source": [
    "type('python')"
   ]
  },
  {
   "cell_type": "code",
   "execution_count": 7,
   "metadata": {
    "colab": {
     "base_uri": "https://localhost:8080/"
    },
    "id": "r0oSz78XplpH",
    "outputId": "478bfffc-0e93-48c5-ece5-2ae679c5acd3"
   },
   "outputs": [
    {
     "data": {
      "text/plain": [
       "str"
      ]
     },
     "execution_count": 7,
     "metadata": {},
     "output_type": "execute_result"
    }
   ],
   "source": [
    "type(\"python\")"
   ]
  },
  {
   "cell_type": "code",
   "execution_count": 12,
   "metadata": {
    "colab": {
     "base_uri": "https://localhost:8080/"
    },
    "id": "Mit-TmWuplpH",
    "outputId": "a01162a9-931c-49be-90e4-ce6f10550e93"
   },
   "outputs": [
    {
     "data": {
      "text/plain": [
       "str"
      ]
     },
     "execution_count": 12,
     "metadata": {},
     "output_type": "execute_result"
    }
   ],
   "source": [
    "type('a')"
   ]
  },
  {
   "cell_type": "code",
   "execution_count": 15,
   "metadata": {
    "colab": {
     "base_uri": "https://localhost:8080/"
    },
    "id": "wg7PwJL9plpH",
    "outputId": "5cb9d903-6142-418f-8742-1757d17c3c97"
   },
   "outputs": [
    {
     "data": {
      "text/plain": [
       "str"
      ]
     },
     "execution_count": 15,
     "metadata": {},
     "output_type": "execute_result"
    }
   ],
   "source": [
    "type(\"p\")"
   ]
  },
  {
   "cell_type": "code",
   "execution_count": 17,
   "metadata": {
    "colab": {
     "base_uri": "https://localhost:8080/"
    },
    "id": "IP78CxLmplpI",
    "outputId": "e79efd1a-a099-49df-ec62-9dc86e93b18e"
   },
   "outputs": [
    {
     "data": {
      "text/plain": [
       "(str, float)"
      ]
     },
     "execution_count": 17,
     "metadata": {},
     "output_type": "execute_result"
    }
   ],
   "source": [
    "type('python'), type(.5)"
   ]
  },
  {
   "cell_type": "code",
   "execution_count": 19,
   "metadata": {
    "colab": {
     "base_uri": "https://localhost:8080/"
    },
    "id": "zp7kR8nCplpI",
    "outputId": "9b41963b-ed25-43c3-b42c-d5be36f05b0a"
   },
   "outputs": [
    {
     "name": "stdout",
     "output_type": "stream",
     "text": [
      "5 True KOR\n"
     ]
    }
   ],
   "source": [
    "a = 5\n",
    "b = (a == 5)\n",
    "c = 'KOR'\n",
    "print(a, b, c)"
   ]
  },
  {
   "cell_type": "markdown",
   "metadata": {
    "id": "1RlJvVPPplpI"
   },
   "source": [
    "- 더하기"
   ]
  },
  {
   "cell_type": "code",
   "execution_count": 22,
   "metadata": {
    "colab": {
     "base_uri": "https://localhost:8080/"
    },
    "id": "bQUcBF6kplpI",
    "outputId": "dd3d0550-23fc-45eb-a122-8d45c5d5ff1c"
   },
   "outputs": [
    {
     "data": {
      "text/plain": [
       "9"
      ]
     },
     "execution_count": 22,
     "metadata": {},
     "output_type": "execute_result"
    }
   ],
   "source": [
    "4 + 5"
   ]
  },
  {
   "cell_type": "code",
   "execution_count": 24,
   "metadata": {
    "colab": {
     "base_uri": "https://localhost:8080/",
     "height": 35
    },
    "id": "4ZwrU7d-plpI",
    "outputId": "2f19d3be-cfc8-445f-eb37-1205776b57b9"
   },
   "outputs": [
    {
     "data": {
      "text/plain": [
       "'BOK2024'"
      ]
     },
     "execution_count": 24,
     "metadata": {},
     "output_type": "execute_result"
    }
   ],
   "source": [
    "'BOK' + '2024'"
   ]
  },
  {
   "cell_type": "code",
   "execution_count": 26,
   "metadata": {
    "colab": {
     "base_uri": "https://localhost:8080/",
     "height": 174
    },
    "id": "wDGp9HLvplpJ",
    "outputId": "c852fb04-9501-471c-875e-498048da0793"
   },
   "outputs": [
    {
     "ename": "TypeError",
     "evalue": "can only concatenate str (not \"int\") to str",
     "output_type": "error",
     "traceback": [
      "\u001b[1;31m---------------------------------------------------------------------------\u001b[0m",
      "\u001b[1;31mTypeError\u001b[0m                                 Traceback (most recent call last)",
      "Cell \u001b[1;32mIn[26], line 1\u001b[0m\n\u001b[1;32m----> 1\u001b[0m \u001b[38;5;124m'\u001b[39m\u001b[38;5;124mBOK\u001b[39m\u001b[38;5;124m'\u001b[39m \u001b[38;5;241m+\u001b[39m \u001b[38;5;241m2024\u001b[39m\n",
      "\u001b[1;31mTypeError\u001b[0m: can only concatenate str (not \"int\") to str"
     ]
    }
   ],
   "source": [
    "'BOK' + 2024"
   ]
  },
  {
   "cell_type": "markdown",
   "metadata": {
    "id": "CXSLZvllRNPB"
   },
   "source": [
    "- Numbers can be added to numbers, and strings can be added to strings.\n",
    "- str(), float(), int() are used to chaning data type."
   ]
  },
  {
   "cell_type": "code",
   "execution_count": 28,
   "metadata": {
    "colab": {
     "base_uri": "https://localhost:8080/",
     "height": 35
    },
    "id": "fH9LuWoJplpJ",
    "outputId": "e659f9ff-357e-4170-d987-d4ac140382f0"
   },
   "outputs": [
    {
     "data": {
      "text/plain": [
       "'BOK2024'"
      ]
     },
     "execution_count": 28,
     "metadata": {},
     "output_type": "execute_result"
    }
   ],
   "source": [
    "'BOK' + str(2024)"
   ]
  },
  {
   "cell_type": "code",
   "execution_count": 30,
   "metadata": {
    "colab": {
     "base_uri": "https://localhost:8080/"
    },
    "id": "b9XEvt9CplpJ",
    "outputId": "4ddc6c4e-19e9-436d-a81a-81d24a8e4dc0"
   },
   "outputs": [
    {
     "data": {
      "text/plain": [
       "str"
      ]
     },
     "execution_count": 30,
     "metadata": {},
     "output_type": "execute_result"
    }
   ],
   "source": [
    "type(str(2024))"
   ]
  },
  {
   "cell_type": "code",
   "execution_count": 32,
   "metadata": {
    "colab": {
     "base_uri": "https://localhost:8080/"
    },
    "id": "4szQuNbCplpJ",
    "outputId": "75770dce-45ae-4c3c-8ff5-3f032a4f08f4"
   },
   "outputs": [
    {
     "data": {
      "text/plain": [
       "2024.0"
      ]
     },
     "execution_count": 32,
     "metadata": {},
     "output_type": "execute_result"
    }
   ],
   "source": [
    "float(str(2024))"
   ]
  },
  {
   "cell_type": "markdown",
   "metadata": {
    "id": "7g8KeLtmRulV"
   },
   "source": [
    "- When applying arithmetic operations to the bool data type, False is treated as having a value of 0 and True as having a value of 1."
   ]
  },
  {
   "cell_type": "code",
   "execution_count": 34,
   "metadata": {
    "colab": {
     "base_uri": "https://localhost:8080/"
    },
    "id": "Ghzo11E0plpJ",
    "outputId": "57e1731c-005a-4fa2-ae6b-12d91548f89a"
   },
   "outputs": [
    {
     "data": {
      "text/plain": [
       "5"
      ]
     },
     "execution_count": 34,
     "metadata": {},
     "output_type": "execute_result"
    }
   ],
   "source": [
    "4 + True"
   ]
  },
  {
   "cell_type": "code",
   "execution_count": 36,
   "metadata": {
    "colab": {
     "base_uri": "https://localhost:8080/"
    },
    "id": "pdtjUuBLplpJ",
    "outputId": "f3b0f707-e7ef-4659-8986-07cf1e9caf27"
   },
   "outputs": [
    {
     "data": {
      "text/plain": [
       "4"
      ]
     },
     "execution_count": 36,
     "metadata": {},
     "output_type": "execute_result"
    }
   ],
   "source": [
    "4 + False"
   ]
  },
  {
   "cell_type": "code",
   "execution_count": 38,
   "metadata": {
    "colab": {
     "base_uri": "https://localhost:8080/"
    },
    "id": "Yk2-dgg5plpK",
    "outputId": "afcdbbd6-5f74-4c6b-ea88-6224c2849265"
   },
   "outputs": [
    {
     "data": {
      "text/plain": [
       "4"
      ]
     },
     "execution_count": 38,
     "metadata": {},
     "output_type": "execute_result"
    }
   ],
   "source": [
    "4 * True"
   ]
  },
  {
   "cell_type": "code",
   "execution_count": 40,
   "metadata": {
    "colab": {
     "base_uri": "https://localhost:8080/"
    },
    "id": "_WO49bD2plpK",
    "outputId": "f5594c12-df97-40cc-9407-a60da883a1d6"
   },
   "outputs": [
    {
     "data": {
      "text/plain": [
       "0"
      ]
     },
     "execution_count": 40,
     "metadata": {},
     "output_type": "execute_result"
    }
   ],
   "source": [
    "4 * False"
   ]
  },
  {
   "cell_type": "code",
   "execution_count": 42,
   "metadata": {
    "colab": {
     "base_uri": "https://localhost:8080/"
    },
    "id": "boRojZFSplpK",
    "outputId": "2b08fb3b-f5ee-4653-b708-7ac5c07438e9"
   },
   "outputs": [
    {
     "data": {
      "text/plain": [
       "1"
      ]
     },
     "execution_count": 42,
     "metadata": {},
     "output_type": "execute_result"
    }
   ],
   "source": [
    "int(True)"
   ]
  },
  {
   "cell_type": "markdown",
   "metadata": {},
   "source": [
    "- print()"
   ]
  },
  {
   "cell_type": "code",
   "execution_count": 44,
   "metadata": {},
   "outputs": [
    {
     "data": {
      "text/plain": [
       "5"
      ]
     },
     "execution_count": 44,
     "metadata": {},
     "output_type": "execute_result"
    }
   ],
   "source": [
    "1 + 2\n",
    "2 + 3"
   ]
  },
  {
   "cell_type": "code",
   "execution_count": 46,
   "metadata": {},
   "outputs": [
    {
     "name": "stdout",
     "output_type": "stream",
     "text": [
      "3\n",
      "5\n"
     ]
    }
   ],
   "source": [
    "print(1 + 2)\n",
    "print(2 + 3)"
   ]
  },
  {
   "cell_type": "markdown",
   "metadata": {
    "id": "_DsNzxuXplpK"
   },
   "source": [
    "- String format f-string"
   ]
  },
  {
   "cell_type": "code",
   "execution_count": 48,
   "metadata": {
    "colab": {
     "base_uri": "https://localhost:8080/"
    },
    "id": "fn0Ke_hSplpK",
    "outputId": "d3d0f922-2de8-46c0-ec15-84cc5386a7c2"
   },
   "outputs": [
    {
     "name": "stdout",
     "output_type": "stream",
     "text": [
      "2 two\n"
     ]
    }
   ],
   "source": [
    "a = 2\n",
    "b = 'two'\n",
    "print(a, b)"
   ]
  },
  {
   "cell_type": "code",
   "execution_count": 50,
   "metadata": {
    "colab": {
     "base_uri": "https://localhost:8080/"
    },
    "id": "fGvZJKfOplpK",
    "outputId": "00550508-9182-4b4c-97f7-5f64b52dadb7"
   },
   "outputs": [
    {
     "name": "stdout",
     "output_type": "stream",
     "text": [
      "2 is two\n"
     ]
    }
   ],
   "source": [
    "print(f'{a} is {b}')"
   ]
  },
  {
   "cell_type": "code",
   "execution_count": 52,
   "metadata": {
    "colab": {
     "base_uri": "https://localhost:8080/"
    },
    "id": "bOWYq_dOplpL",
    "outputId": "514d3923-a6af-4690-b40c-f9d93a868cb6"
   },
   "outputs": [
    {
     "name": "stdout",
     "output_type": "stream",
     "text": [
      "two is 2.00\n"
     ]
    }
   ],
   "source": [
    "print(f'{b} is {a:.2f}')"
   ]
  },
  {
   "cell_type": "code",
   "execution_count": 54,
   "metadata": {
    "colab": {
     "base_uri": "https://localhost:8080/"
    },
    "id": "GEpSVxhsplpL",
    "outputId": "3ff7b18e-14b9-4da4-fd51-a80ee05325bf"
   },
   "outputs": [
    {
     "name": "stdout",
     "output_type": "stream",
     "text": [
      "two is 10,000.00\n"
     ]
    }
   ],
   "source": [
    "print(f'{b} is {10000:,.2f}')"
   ]
  },
  {
   "cell_type": "markdown",
   "metadata": {
    "id": "zcHFY5o9plpM"
   },
   "source": [
    "## List"
   ]
  },
  {
   "cell_type": "code",
   "execution_count": 57,
   "metadata": {
    "id": "QCiLko44plpM"
   },
   "outputs": [],
   "source": [
    "a = [1, 2, 3]\n",
    "b = ['one', 'two', 'three']\n",
    "c = [1, 'one', 1.0]"
   ]
  },
  {
   "cell_type": "code",
   "execution_count": 59,
   "metadata": {
    "colab": {
     "base_uri": "https://localhost:8080/"
    },
    "id": "sp7EfIO-plpM",
    "outputId": "3194b7dd-6acd-424e-d21b-c8d9489752a4"
   },
   "outputs": [
    {
     "data": {
      "text/plain": [
       "list"
      ]
     },
     "execution_count": 59,
     "metadata": {},
     "output_type": "execute_result"
    }
   ],
   "source": [
    "type(a)"
   ]
  },
  {
   "cell_type": "code",
   "execution_count": 61,
   "metadata": {
    "colab": {
     "base_uri": "https://localhost:8080/"
    },
    "id": "y49xn6_hplpM",
    "outputId": "f52f9b86-10c7-44c5-c225-4eda2a89cede"
   },
   "outputs": [
    {
     "data": {
      "text/plain": [
       "[1, 2, 3, 1, 2, 3]"
      ]
     },
     "execution_count": 61,
     "metadata": {},
     "output_type": "execute_result"
    }
   ],
   "source": [
    "a * 2   # reiteration"
   ]
  },
  {
   "cell_type": "code",
   "execution_count": 63,
   "metadata": {
    "colab": {
     "base_uri": "https://localhost:8080/"
    },
    "id": "2HlEc1C0plpM",
    "outputId": "c2b8b189-f850-4432-882e-01aa25a1c988"
   },
   "outputs": [
    {
     "data": {
      "text/plain": [
       "['one', 'two', 'three', 'one', 'two', 'three']"
      ]
     },
     "execution_count": 63,
     "metadata": {},
     "output_type": "execute_result"
    }
   ],
   "source": [
    "b * 2"
   ]
  },
  {
   "cell_type": "code",
   "execution_count": 65,
   "metadata": {
    "colab": {
     "base_uri": "https://localhost:8080/"
    },
    "id": "zHDMP4G_plpM",
    "outputId": "b7aafafe-fcda-483a-ead5-ce9a1ad70dd3"
   },
   "outputs": [
    {
     "data": {
      "text/plain": [
       "[1, 2, 3, 'one', 'two', 'three']"
      ]
     },
     "execution_count": 65,
     "metadata": {},
     "output_type": "execute_result"
    }
   ],
   "source": [
    "a + b"
   ]
  },
  {
   "cell_type": "code",
   "execution_count": 67,
   "metadata": {
    "colab": {
     "base_uri": "https://localhost:8080/",
     "height": 174
    },
    "id": "53O9ZnIFplpM",
    "outputId": "cc2b4ed4-e4d7-4a3d-85f5-ccadbecf86a0"
   },
   "outputs": [
    {
     "ename": "TypeError",
     "evalue": "can only concatenate list (not \"int\") to list",
     "output_type": "error",
     "traceback": [
      "\u001b[1;31m---------------------------------------------------------------------------\u001b[0m",
      "\u001b[1;31mTypeError\u001b[0m                                 Traceback (most recent call last)",
      "Cell \u001b[1;32mIn[67], line 1\u001b[0m\n\u001b[1;32m----> 1\u001b[0m a \u001b[38;5;241m+\u001b[39m \u001b[38;5;241m4\u001b[39m\n",
      "\u001b[1;31mTypeError\u001b[0m: can only concatenate list (not \"int\") to list"
     ]
    }
   ],
   "source": [
    "a + 4"
   ]
  },
  {
   "cell_type": "code",
   "execution_count": 69,
   "metadata": {
    "colab": {
     "base_uri": "https://localhost:8080/",
     "height": 174
    },
    "id": "3V9pGdYFplpN",
    "outputId": "70b8e28d-caec-411e-9f84-9114e9529d5a"
   },
   "outputs": [
    {
     "ename": "TypeError",
     "evalue": "can only concatenate list (not \"str\") to list",
     "output_type": "error",
     "traceback": [
      "\u001b[1;31m---------------------------------------------------------------------------\u001b[0m",
      "\u001b[1;31mTypeError\u001b[0m                                 Traceback (most recent call last)",
      "Cell \u001b[1;32mIn[69], line 1\u001b[0m\n\u001b[1;32m----> 1\u001b[0m a \u001b[38;5;241m+\u001b[39m \u001b[38;5;124m'\u001b[39m\u001b[38;5;124mfour\u001b[39m\u001b[38;5;124m'\u001b[39m\n",
      "\u001b[1;31mTypeError\u001b[0m: can only concatenate list (not \"str\") to list"
     ]
    }
   ],
   "source": [
    "a + 'four'"
   ]
  },
  {
   "cell_type": "markdown",
   "metadata": {
    "id": "3dU-pVatplpN"
   },
   "source": [
    "- An error occurs because the operation for adding numbers or strings to the list is not defined."
   ]
  },
  {
   "cell_type": "code",
   "execution_count": 71,
   "metadata": {
    "colab": {
     "base_uri": "https://localhost:8080/"
    },
    "id": "YwhXBSABplpN",
    "outputId": "5c9d0264-e83a-430e-c7b6-e6b034c3f94f"
   },
   "outputs": [
    {
     "data": {
      "text/plain": [
       "[1, 2, 3, 4]"
      ]
     },
     "execution_count": 71,
     "metadata": {},
     "output_type": "execute_result"
    }
   ],
   "source": [
    "a + [4]"
   ]
  },
  {
   "cell_type": "code",
   "execution_count": 73,
   "metadata": {
    "colab": {
     "base_uri": "https://localhost:8080/"
    },
    "id": "ics6GYA-plpN",
    "outputId": "a9f9f235-8160-405b-b162-e4f0a3aff3eb"
   },
   "outputs": [
    {
     "name": "stdout",
     "output_type": "stream",
     "text": [
      "['one', 'two', 'three', 'four']\n"
     ]
    }
   ],
   "source": [
    "b.append('four')\n",
    "print(b)"
   ]
  },
  {
   "cell_type": "markdown",
   "metadata": {
    "id": "x1O08-aeplpN"
   },
   "source": [
    "- To add numbers to each item in a list of numbers, use list comprehension or for-loop."
   ]
  },
  {
   "cell_type": "code",
   "execution_count": 75,
   "metadata": {},
   "outputs": [
    {
     "name": "stdout",
     "output_type": "stream",
     "text": [
      "2\n",
      "3\n",
      "4\n"
     ]
    }
   ],
   "source": [
    "for i in [1, 2, 3]:\n",
    "    print(i+1)"
   ]
  },
  {
   "cell_type": "code",
   "execution_count": 77,
   "metadata": {
    "colab": {
     "base_uri": "https://localhost:8080/"
    },
    "id": "yDfDGtlNplpN",
    "outputId": "875a5901-3bc1-4d18-ba81-9bcbbf7c71bc"
   },
   "outputs": [
    {
     "data": {
      "text/plain": [
       "[2, 3, 4]"
      ]
     },
     "execution_count": 77,
     "metadata": {},
     "output_type": "execute_result"
    }
   ],
   "source": [
    "[i + 1 for i in a]"
   ]
  },
  {
   "cell_type": "markdown",
   "metadata": {
    "id": "L0ZQjuC2plpN"
   },
   "source": [
    "- The NumPy ndarray data type, which we will cover later, looks like a list of numeric data, but you can add one number to it."
   ]
  },
  {
   "cell_type": "code",
   "execution_count": 80,
   "metadata": {
    "colab": {
     "base_uri": "https://localhost:8080/"
    },
    "id": "iPtgYebIplpN",
    "outputId": "caaf91ba-3a78-45d4-f5b6-8d567a0861bd"
   },
   "outputs": [
    {
     "data": {
      "text/plain": [
       "[0, 1, 2, 3, 4, 5, 6, 7, 8, 9]"
      ]
     },
     "execution_count": 80,
     "metadata": {},
     "output_type": "execute_result"
    }
   ],
   "source": [
    "list(range(10))"
   ]
  },
  {
   "cell_type": "code",
   "execution_count": 82,
   "metadata": {},
   "outputs": [
    {
     "name": "stdout",
     "output_type": "stream",
     "text": [
      "0\n",
      "1\n",
      "2\n",
      "3\n",
      "4\n",
      "5\n",
      "6\n",
      "7\n",
      "8\n",
      "9\n"
     ]
    }
   ],
   "source": [
    "for i in range(10):\n",
    "    print(i)"
   ]
  },
  {
   "cell_type": "markdown",
   "metadata": {
    "id": "9hL8FpZIplpO"
   },
   "source": [
    "- Connect strings in a list with a specific symbol"
   ]
  },
  {
   "cell_type": "code",
   "execution_count": 85,
   "metadata": {
    "colab": {
     "base_uri": "https://localhost:8080/"
    },
    "id": "weMGGcSnplpO",
    "outputId": "1fdb06b8-6cfd-44d0-ac66-5e12740bf7b4"
   },
   "outputs": [
    {
     "data": {
      "text/plain": [
       "['one', 'two', 'three', 'four']"
      ]
     },
     "execution_count": 85,
     "metadata": {},
     "output_type": "execute_result"
    }
   ],
   "source": [
    "b"
   ]
  },
  {
   "cell_type": "code",
   "execution_count": 87,
   "metadata": {
    "colab": {
     "base_uri": "https://localhost:8080/",
     "height": 35
    },
    "id": "ZCs23hE5plpO",
    "outputId": "9a7a0eaa-f397-4a1f-ce89-23ac48103455"
   },
   "outputs": [
    {
     "data": {
      "text/plain": [
       "'one:two:three:four'"
      ]
     },
     "execution_count": 87,
     "metadata": {},
     "output_type": "execute_result"
    }
   ],
   "source": [
    "':'.join(b)"
   ]
  },
  {
   "cell_type": "markdown",
   "metadata": {
    "id": "VSN0RYpGplpO"
   },
   "source": [
    "- Python index starts from 0!!"
   ]
  },
  {
   "cell_type": "code",
   "execution_count": 89,
   "metadata": {},
   "outputs": [
    {
     "data": {
      "text/plain": [
       "[1, 2, 3]"
      ]
     },
     "execution_count": 89,
     "metadata": {},
     "output_type": "execute_result"
    }
   ],
   "source": [
    "a"
   ]
  },
  {
   "cell_type": "code",
   "execution_count": 91,
   "metadata": {
    "colab": {
     "base_uri": "https://localhost:8080/"
    },
    "id": "K8bDKfI_plpO",
    "outputId": "f8493085-2d8a-4b31-a637-1ef0267e9f5d"
   },
   "outputs": [
    {
     "data": {
      "text/plain": [
       "1"
      ]
     },
     "execution_count": 91,
     "metadata": {},
     "output_type": "execute_result"
    }
   ],
   "source": [
    "a[0]"
   ]
  },
  {
   "cell_type": "code",
   "execution_count": 93,
   "metadata": {
    "colab": {
     "base_uri": "https://localhost:8080/"
    },
    "id": "gAtXisSjplpO",
    "outputId": "d07094b7-a674-4d9d-d920-7d8a6d429f8a"
   },
   "outputs": [
    {
     "data": {
      "text/plain": [
       "[1, 2]"
      ]
     },
     "execution_count": 93,
     "metadata": {},
     "output_type": "execute_result"
    }
   ],
   "source": [
    "a[0:2]"
   ]
  },
  {
   "cell_type": "markdown",
   "metadata": {
    "id": "i7-NlpntplpQ"
   },
   "source": [
    "- list comprehension"
   ]
  },
  {
   "cell_type": "code",
   "execution_count": null,
   "metadata": {
    "colab": {
     "base_uri": "https://localhost:8080/",
     "height": 174
    },
    "id": "VXAg6bIzplpQ",
    "outputId": "f22603bf-0b10-4008-97b1-cbabfee4502f"
   },
   "outputs": [],
   "source": [
    "['KOR', 'USA', 'CHN'] - ['CHN', 'AUS']"
   ]
  },
  {
   "cell_type": "code",
   "execution_count": null,
   "metadata": {
    "colab": {
     "base_uri": "https://localhost:8080/"
    },
    "id": "UHvHPbCYplpQ",
    "outputId": "73fc9b30-0cdd-4176-f678-7d669104bcf7"
   },
   "outputs": [],
   "source": [
    "[s for s in ['KOR', 'USA', 'CHN'] if s not in ['CHN', 'AUS']]"
   ]
  },
  {
   "cell_type": "markdown",
   "metadata": {
    "id": "owBOJbKCplpR"
   },
   "source": [
    "- Adding strings to each string list item"
   ]
  },
  {
   "cell_type": "code",
   "execution_count": null,
   "metadata": {
    "colab": {
     "base_uri": "https://localhost:8080/"
    },
    "id": "1gsa51RnplpS",
    "outputId": "88317f0b-ce76-4d4e-a6a1-01176d7fcfb5"
   },
   "outputs": [],
   "source": [
    "['Mr.' + s for s in ['Bob', 'Chali', 'Jack']]"
   ]
  },
  {
   "cell_type": "markdown",
   "metadata": {
    "id": "L09r0gyUSmN-"
   },
   "source": [
    "- A string is a list consisting of each character (123.../abc... etc.)"
   ]
  },
  {
   "cell_type": "code",
   "execution_count": null,
   "metadata": {
    "id": "AGpghLedSyFV"
   },
   "outputs": [],
   "source": [
    "a = 'abcde'\n",
    "a"
   ]
  },
  {
   "cell_type": "code",
   "execution_count": null,
   "metadata": {
    "colab": {
     "base_uri": "https://localhost:8080/",
     "height": 35
    },
    "id": "DA-2XROBS2nN",
    "outputId": "26a8ebe5-5d12-45e4-9175-3f8bc35e99d2"
   },
   "outputs": [],
   "source": [
    "a[:3]"
   ]
  },
  {
   "cell_type": "code",
   "execution_count": null,
   "metadata": {
    "colab": {
     "base_uri": "https://localhost:8080/",
     "height": 35
    },
    "id": "Fz3MQds_S4Na",
    "outputId": "ef6a1204-20b0-435c-cf7e-4c4790602662"
   },
   "outputs": [],
   "source": [
    "a[-2:]"
   ]
  },
  {
   "cell_type": "code",
   "execution_count": null,
   "metadata": {
    "colab": {
     "base_uri": "https://localhost:8080/",
     "height": 35
    },
    "id": "ln_uyVyuS6sV",
    "outputId": "7da02430-3424-4518-f8c8-db2caaf07d2a"
   },
   "outputs": [],
   "source": [
    "\"ABCDEF\"[:2]"
   ]
  },
  {
   "cell_type": "markdown",
   "metadata": {
    "id": "N2daLnGRplpT"
   },
   "source": [
    "## Dictionary"
   ]
  },
  {
   "cell_type": "code",
   "execution_count": null,
   "metadata": {
    "id": "mFGzj70NplpT"
   },
   "outputs": [],
   "source": [
    "en_kr = {'SE':'Seoul', 'GG':'Gyeonggi', 'IC':'Incheon'}"
   ]
  },
  {
   "cell_type": "code",
   "execution_count": null,
   "metadata": {
    "colab": {
     "base_uri": "https://localhost:8080/",
     "height": 35
    },
    "id": "I0pbra5AplpT",
    "outputId": "c3be1e51-6cb6-4d22-f9ba-09a8cd482826"
   },
   "outputs": [],
   "source": [
    "en_kr['SE']"
   ]
  },
  {
   "cell_type": "code",
   "execution_count": null,
   "metadata": {
    "colab": {
     "base_uri": "https://localhost:8080/"
    },
    "id": "TUOz4mGtplpU",
    "outputId": "2748d39f-8211-47c8-fa62-09bc36d3ae35"
   },
   "outputs": [],
   "source": [
    "en_kr.keys()"
   ]
  },
  {
   "cell_type": "code",
   "execution_count": null,
   "metadata": {
    "colab": {
     "base_uri": "https://localhost:8080/"
    },
    "id": "UYvYD2tuplpU",
    "outputId": "26331664-d788-49df-8956-dc7740cb7861"
   },
   "outputs": [],
   "source": [
    "en_kr.values()"
   ]
  },
  {
   "cell_type": "code",
   "execution_count": null,
   "metadata": {
    "id": "dVMiiQGhplpU"
   },
   "outputs": [],
   "source": [
    "en_kr['SE'] = 'Seoul'"
   ]
  },
  {
   "cell_type": "code",
   "execution_count": null,
   "metadata": {
    "colab": {
     "base_uri": "https://localhost:8080/"
    },
    "id": "mEGXZAq6plpU",
    "outputId": "6e051520-3ef4-4d65-967d-5668860592f3"
   },
   "outputs": [],
   "source": [
    "en_kr"
   ]
  },
  {
   "cell_type": "markdown",
   "metadata": {
    "id": "ie0bl9duplpU"
   },
   "source": [
    "- make a dictionary as dict, zip"
   ]
  },
  {
   "cell_type": "code",
   "execution_count": 100,
   "metadata": {
    "colab": {
     "base_uri": "https://localhost:8080/"
    },
    "id": "FhtiG9qLplpU",
    "outputId": "2840a673-afa4-4de5-c17d-6453ca766628"
   },
   "outputs": [
    {
     "data": {
      "text/plain": [
       "{'Korea': 'KR', 'United States': 'US', 'Japan': 'JP'}"
      ]
     },
     "execution_count": 100,
     "metadata": {},
     "output_type": "execute_result"
    }
   ],
   "source": [
    "dict(zip(['Korea', 'United States', 'Japan'], ['KR', 'US', 'JP']))"
   ]
  },
  {
   "cell_type": "markdown",
   "metadata": {
    "id": "bD8IrLeNplpX"
   },
   "source": [
    "# Grammar\n",
    "\n",
    "- Use indentation (4 spaces) when defining for loop, if statements, and functions in Python.\n",
    "    - In Jupyter Notebook, enter 4 spaces for tab.\n",
    "- Although the degree of freedom in writing code is low, readability is greatly improved.\n",
    "\n",
    "\n",
    "```\n",
    "<C>\n",
    "for (i=1; i<=n; i++) {\n",
    "  printf(\"%d\\n\", i);\n",
    "}\n",
    "\n",
    "<matlab>\n",
    "for i = 1:n\n",
    "    disp(i)\n",
    "end\n",
    "\n",
    "<python>\n",
    "for i in range(1, n+1):\n",
    "    print(i)\n",
    "```"
   ]
  },
  {
   "cell_type": "markdown",
   "metadata": {
    "id": "Na2vfuFH_FLK"
   },
   "source": [
    "## definition\n",
    "```\n",
    "def Function Name(Input variable 1, Input variable 2, ..):    \n",
    "    ...    \n",
    "    return Output variable 1, Output variable 2, ...    \n",
    "    \n",
    "```"
   ]
  },
  {
   "cell_type": "code",
   "execution_count": null,
   "metadata": {
    "id": "fj8mNDvkplpX"
   },
   "outputs": [],
   "source": [
    "def sum_two_numbers(a, b):\n",
    "    return a + b"
   ]
  },
  {
   "cell_type": "code",
   "execution_count": null,
   "metadata": {
    "colab": {
     "base_uri": "https://localhost:8080/"
    },
    "id": "ZPVoJCD_plpX",
    "outputId": "0da7a47c-3ace-4349-8067-7cabc4368a49"
   },
   "outputs": [],
   "source": [
    "sum_two_numbers(1, 2)"
   ]
  },
  {
   "cell_type": "code",
   "execution_count": null,
   "metadata": {
    "id": "ZFNz4kDgByOy"
   },
   "outputs": [],
   "source": [
    "def sum_three_numbers(a, b, c=4):\n",
    "    return a + 2*b + c"
   ]
  },
  {
   "cell_type": "code",
   "execution_count": null,
   "metadata": {
    "colab": {
     "base_uri": "https://localhost:8080/"
    },
    "id": "jhza4RrBBljK",
    "outputId": "2966b7d8-3518-461b-97de-a164b0db8394"
   },
   "outputs": [],
   "source": [
    "sum_three_numbers(1, 2, 0)"
   ]
  },
  {
   "cell_type": "code",
   "execution_count": null,
   "metadata": {
    "colab": {
     "base_uri": "https://localhost:8080/"
    },
    "id": "SF4nCPoICDH6",
    "outputId": "6b3384fa-da42-4945-e34b-754c23a189bb"
   },
   "outputs": [],
   "source": [
    "sum_three_numbers(1, 2)"
   ]
  },
  {
   "cell_type": "code",
   "execution_count": null,
   "metadata": {
    "colab": {
     "base_uri": "https://localhost:8080/"
    },
    "id": "c0K0qo6RCJ2D",
    "outputId": "1a9e1ed4-65a7-44f2-b4c0-4ba78c704999"
   },
   "outputs": [],
   "source": [
    "sum_three_numbers(b=2, a=1)"
   ]
  },
  {
   "cell_type": "markdown",
   "metadata": {
    "id": "AdJnA5Mo_P2g"
   },
   "source": [
    "## for-loop, if-else"
   ]
  },
  {
   "cell_type": "code",
   "execution_count": null,
   "metadata": {
    "colab": {
     "base_uri": "https://localhost:8080/"
    },
    "id": "bBBlUm3MplpX",
    "outputId": "ca81168d-84f2-4d4b-f4ea-886de45e1631"
   },
   "outputs": [],
   "source": [
    "countries = ['USA', 'KOR', 'CHN']\n",
    "for c in countries:\n",
    "    if c == 'KOR':\n",
    "        print(c, 'is my country.')\n",
    "    else:\n",
    "        print(c, 'is not my country.')"
   ]
  },
  {
   "cell_type": "markdown",
   "metadata": {
    "id": "kRUJF1Tb-2H8"
   },
   "source": [
    "## continue, break, pass"
   ]
  },
  {
   "cell_type": "code",
   "execution_count": null,
   "metadata": {
    "colab": {
     "base_uri": "https://localhost:8080/"
    },
    "id": "qqdt6yCm-_sw",
    "outputId": "452501bc-68b7-4191-9795-430dbdbda784"
   },
   "outputs": [],
   "source": [
    "countries = ['USA', 'KOR', 'CHN']\n",
    "for c in countries:\n",
    "    if c == 'KOR':\n",
    "        print(c, 'is my country.')\n",
    "    else:\n",
    "        pass\n",
    "    \n",
    "    print(c)"
   ]
  },
  {
   "cell_type": "code",
   "execution_count": null,
   "metadata": {
    "colab": {
     "base_uri": "https://localhost:8080/"
    },
    "id": "qqdt6yCm-_sw",
    "outputId": "452501bc-68b7-4191-9795-430dbdbda784"
   },
   "outputs": [],
   "source": [
    "countries = ['USA', 'KOR', 'CHN']\n",
    "for c in countries:\n",
    "    if c == 'KOR':\n",
    "        print(c, 'is my country.')\n",
    "    else:\n",
    "        continue\n",
    "    \n",
    "    print(c)"
   ]
  },
  {
   "cell_type": "code",
   "execution_count": null,
   "metadata": {},
   "outputs": [],
   "source": [
    "countries = ['USA', 'KOR', 'CHN']\n",
    "for c in countries:\n",
    "    if c == 'KOR':\n",
    "        print(c, 'is my country.')\n",
    "        break\n",
    "    \n",
    "    print(c)"
   ]
  }
 ],
 "metadata": {
  "colab": {
   "include_colab_link": true,
   "name": "intro.ipynb",
   "provenance": []
  },
  "kernelspec": {
   "display_name": "Python 3 (ipykernel)",
   "language": "python",
   "name": "python3"
  },
  "language_info": {
   "codemirror_mode": {
    "name": "ipython",
    "version": 3
   },
   "file_extension": ".py",
   "mimetype": "text/x-python",
   "name": "python",
   "nbconvert_exporter": "python",
   "pygments_lexer": "ipython3",
   "version": "3.12.7"
  },
  "widgets": {
   "application/vnd.jupyter.widget-state+json": {
    "state": {},
    "version_major": 2,
    "version_minor": 0
   }
  }
 },
 "nbformat": 4,
 "nbformat_minor": 4
}
