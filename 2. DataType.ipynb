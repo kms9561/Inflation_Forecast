{
 "cells": [
  {
   "cell_type": "markdown",
   "metadata": {
    "id": "KSG_VOunFb5-"
   },
   "source": [
    "# Data Type: Dataframe\n",
    "\n",
    "1. Created with NumPy 2D List/Array as input variable\n",
    "2. Created using a dictionary consisting of column names and List/Array as input variables."
   ]
  },
  {
   "cell_type": "code",
   "execution_count": 9,
   "metadata": {
    "id": "82inE3YJFb5_"
   },
   "outputs": [],
   "source": [
    "import pandas as pd"
   ]
  },
  {
   "cell_type": "code",
   "execution_count": 3,
   "metadata": {
    "id": "KPKC8iAUFb6A"
   },
   "outputs": [],
   "source": [
    "df = pd.DataFrame([[1, 2], [3, 4]]) "
   ]
  },
  {
   "cell_type": "code",
   "execution_count": 5,
   "metadata": {
    "colab": {
     "base_uri": "https://localhost:8080/",
     "height": 112
    },
    "id": "QdDnrM1oFb6A",
    "outputId": "dce63639-c6f0-4118-b923-02699c509096"
   },
   "outputs": [
    {
     "data": {
      "text/html": [
       "<div>\n",
       "<style scoped>\n",
       "    .dataframe tbody tr th:only-of-type {\n",
       "        vertical-align: middle;\n",
       "    }\n",
       "\n",
       "    .dataframe tbody tr th {\n",
       "        vertical-align: top;\n",
       "    }\n",
       "\n",
       "    .dataframe thead th {\n",
       "        text-align: right;\n",
       "    }\n",
       "</style>\n",
       "<table border=\"1\" class=\"dataframe\">\n",
       "  <thead>\n",
       "    <tr style=\"text-align: right;\">\n",
       "      <th></th>\n",
       "      <th>0</th>\n",
       "      <th>1</th>\n",
       "    </tr>\n",
       "  </thead>\n",
       "  <tbody>\n",
       "    <tr>\n",
       "      <th>0</th>\n",
       "      <td>1</td>\n",
       "      <td>2</td>\n",
       "    </tr>\n",
       "    <tr>\n",
       "      <th>1</th>\n",
       "      <td>3</td>\n",
       "      <td>4</td>\n",
       "    </tr>\n",
       "  </tbody>\n",
       "</table>\n",
       "</div>"
      ],
      "text/plain": [
       "   0  1\n",
       "0  1  2\n",
       "1  3  4"
      ]
     },
     "execution_count": 5,
     "metadata": {},
     "output_type": "execute_result"
    }
   ],
   "source": [
    "df"
   ]
  },
  {
   "cell_type": "code",
   "execution_count": null,
   "metadata": {
    "colab": {
     "base_uri": "https://localhost:8080/"
    },
    "id": "1xKOId6lFb6B",
    "outputId": "5bee6404-06d4-43e5-d87c-b819548b65fe"
   },
   "outputs": [],
   "source": [
    "type(df)"
   ]
  },
  {
   "cell_type": "code",
   "execution_count": null,
   "metadata": {
    "colab": {
     "base_uri": "https://localhost:8080/"
    },
    "id": "qXVNvM_pFusJ",
    "outputId": "39fc2ecb-da4b-4f31-ce9e-6d6bd273b2ac"
   },
   "outputs": [],
   "source": [
    "type(df)==pd.DataFrame"
   ]
  },
  {
   "cell_type": "code",
   "execution_count": null,
   "metadata": {
    "id": "g2_fSU7AFb6C"
   },
   "outputs": [],
   "source": [
    "df = pd.DataFrame([[1, 2], [3, 4], [5, 6]])"
   ]
  },
  {
   "cell_type": "code",
   "execution_count": null,
   "metadata": {
    "colab": {
     "base_uri": "https://localhost:8080/",
     "height": 143
    },
    "id": "0e3L0i4zFb6C",
    "outputId": "c6b19675-cb51-4b15-cfed-45fe075890f9"
   },
   "outputs": [],
   "source": [
    "df"
   ]
  },
  {
   "cell_type": "code",
   "execution_count": null,
   "metadata": {
    "id": "p0Tg0JDTFb6D"
   },
   "outputs": [],
   "source": [
    "df.columns = ['KOR', 'USA']"
   ]
  },
  {
   "cell_type": "code",
   "execution_count": null,
   "metadata": {
    "id": "fE4Ig6KUFb6D"
   },
   "outputs": [],
   "source": [
    "df.index = [17, 18, 19]"
   ]
  },
  {
   "cell_type": "code",
   "execution_count": null,
   "metadata": {
    "colab": {
     "base_uri": "https://localhost:8080/",
     "height": 143
    },
    "id": "pNMbiNgLFb6E",
    "outputId": "49b052c4-d87c-4aa3-9467-e3ccba4d60fe"
   },
   "outputs": [],
   "source": [
    "df"
   ]
  },
  {
   "cell_type": "code",
   "execution_count": null,
   "metadata": {},
   "outputs": [],
   "source": [
    "df['USA']"
   ]
  },
  {
   "cell_type": "code",
   "execution_count": null,
   "metadata": {},
   "outputs": [],
   "source": [
    "df.loc[18]"
   ]
  },
  {
   "cell_type": "code",
   "execution_count": null,
   "metadata": {
    "id": "MBrZ5RQuiW-X"
   },
   "outputs": [],
   "source": [
    "df = pd.DataFrame({'KOR':[1, 3, 5], 'USA':[2, 4, 6]})"
   ]
  },
  {
   "cell_type": "code",
   "execution_count": null,
   "metadata": {
    "colab": {
     "base_uri": "https://localhost:8080/",
     "height": 112
    },
    "id": "jq5USPn8ic3q",
    "outputId": "964600e2-8ea4-4c08-8f33-dbeb9f429bbb"
   },
   "outputs": [],
   "source": [
    "df"
   ]
  },
  {
   "cell_type": "markdown",
   "metadata": {
    "id": "inyWlFCUFb6E"
   },
   "source": [
    "- Data frame statistics"
   ]
  },
  {
   "cell_type": "code",
   "execution_count": null,
   "metadata": {
    "colab": {
     "base_uri": "https://localhost:8080/"
    },
    "id": "ABNxEuSYFb6E",
    "outputId": "23845833-f49d-4444-a3fe-820f4b5aba39"
   },
   "outputs": [],
   "source": [
    "df.mean()"
   ]
  },
  {
   "cell_type": "code",
   "execution_count": null,
   "metadata": {
    "colab": {
     "base_uri": "https://localhost:8080/",
     "height": 112
    },
    "id": "JTqH_nJcFb6F",
    "outputId": "c7d29278-d139-4425-c284-2f0f6893dba3"
   },
   "outputs": [],
   "source": [
    "df.mean().to_frame('mean')"
   ]
  },
  {
   "cell_type": "code",
   "execution_count": null,
   "metadata": {
    "colab": {
     "base_uri": "https://localhost:8080/",
     "height": 175
    },
    "id": "C8m0lm2bXQ-N",
    "outputId": "a8992d9a-1729-4302-bf89-12cb536d25aa"
   },
   "outputs": [],
   "source": [
    "df.apply(['mean', 'median', 'sum', 'std'])"
   ]
  },
  {
   "cell_type": "markdown",
   "metadata": {
    "id": "-8qrybUDFb6F"
   },
   "source": [
    "## Slice"
   ]
  },
  {
   "cell_type": "code",
   "execution_count": null,
   "metadata": {
    "colab": {
     "base_uri": "https://localhost:8080/",
     "height": 143
    },
    "id": "zVFPkseuFb6F",
    "outputId": "9d24d8ee-bda9-4c44-a0de-e99e7738d2f2"
   },
   "outputs": [],
   "source": [
    "df"
   ]
  },
  {
   "cell_type": "code",
   "execution_count": null,
   "metadata": {
    "colab": {
     "base_uri": "https://localhost:8080/",
     "height": 112
    },
    "id": "-n9-0WnlFb6F",
    "outputId": "2e081a28-bc46-45bc-e743-83687f6aff7b"
   },
   "outputs": [],
   "source": [
    "df.loc[1:, :]"
   ]
  },
  {
   "cell_type": "code",
   "execution_count": null,
   "metadata": {
    "colab": {
     "base_uri": "https://localhost:8080/"
    },
    "id": "gQZN7ISXFb6G",
    "outputId": "fb61f2d8-e919-4f4b-9a0a-7caa746a2160"
   },
   "outputs": [],
   "source": [
    "df.loc[1, :]"
   ]
  },
  {
   "cell_type": "code",
   "execution_count": null,
   "metadata": {
    "colab": {
     "base_uri": "https://localhost:8080/",
     "height": 81
    },
    "id": "P0xVGoqFFb6G",
    "outputId": "f1ad0eae-d7a7-4dbd-cccd-ab7720a4bbaa"
   },
   "outputs": [],
   "source": [
    "df.loc[[1]]"
   ]
  },
  {
   "cell_type": "markdown",
   "metadata": {
    "id": "A41vwQa8Fb6H"
   },
   "source": [
    "- Specify value"
   ]
  },
  {
   "cell_type": "code",
   "execution_count": null,
   "metadata": {
    "colab": {
     "base_uri": "https://localhost:8080/",
     "height": 112
    },
    "id": "YMxrIhwkFb6H",
    "outputId": "f137bc46-4caa-466d-8ca8-c092a4caaa47"
   },
   "outputs": [],
   "source": [
    "df"
   ]
  },
  {
   "cell_type": "code",
   "execution_count": null,
   "metadata": {
    "id": "X0bN1bOaFb6H"
   },
   "outputs": [],
   "source": [
    "df.loc[0, 'KOR'] = 0"
   ]
  },
  {
   "cell_type": "code",
   "execution_count": null,
   "metadata": {
    "colab": {
     "base_uri": "https://localhost:8080/",
     "height": 112
    },
    "id": "LQENYkKOFb6H",
    "outputId": "90654740-c22e-4087-ff4d-aeb10c2b4ed0"
   },
   "outputs": [],
   "source": [
    "df"
   ]
  },
  {
   "cell_type": "code",
   "execution_count": null,
   "metadata": {
    "id": "WqspKdNaFb6H"
   },
   "outputs": [],
   "source": [
    "df.loc[:, 'USA'] = 1"
   ]
  },
  {
   "cell_type": "code",
   "execution_count": null,
   "metadata": {
    "colab": {
     "base_uri": "https://localhost:8080/",
     "height": 112
    },
    "id": "XdrGp4lLFb6H",
    "outputId": "d1e54ce4-e56a-4fc6-d1ee-7b6b51352eba"
   },
   "outputs": [],
   "source": [
    "df"
   ]
  },
  {
   "cell_type": "code",
   "execution_count": null,
   "metadata": {
    "id": "6L_-qYKYFb6I"
   },
   "outputs": [],
   "source": [
    "df.loc[:, :] = [[1, 2], [3, 4], [5, 6]]"
   ]
  },
  {
   "cell_type": "code",
   "execution_count": null,
   "metadata": {
    "colab": {
     "base_uri": "https://localhost:8080/",
     "height": 112
    },
    "id": "YZiRi6yLFb6I",
    "outputId": "a248dd27-2114-45dc-d12c-1f5817deb74e"
   },
   "outputs": [],
   "source": [
    "df"
   ]
  },
  {
   "cell_type": "code",
   "execution_count": null,
   "metadata": {
    "id": "llFendVRFb6I"
   },
   "outputs": [],
   "source": [
    "df = pd.DataFrame({'country':['USA', 'KOR', 'USA', 'KOR'],\n",
    "                   'pop':[1, 2, 3, 4],\n",
    "                   'gdp':[3, 4, 5, 6]})"
   ]
  },
  {
   "cell_type": "code",
   "execution_count": null,
   "metadata": {
    "colab": {
     "base_uri": "https://localhost:8080/",
     "height": 175
    },
    "id": "zRMikIq-Fb6J",
    "outputId": "45ec767d-68f1-439a-c99b-ffcb285dc4a4"
   },
   "outputs": [],
   "source": [
    "df"
   ]
  },
  {
   "cell_type": "code",
   "execution_count": null,
   "metadata": {
    "id": "tkeihnctFb6J"
   },
   "outputs": [],
   "source": [
    "df = df.set_index('country')"
   ]
  },
  {
   "cell_type": "code",
   "execution_count": null,
   "metadata": {
    "colab": {
     "base_uri": "https://localhost:8080/",
     "height": 206
    },
    "id": "3rHSjfjfFb6J",
    "outputId": "21c36ef8-dda7-4a6a-8ebd-a83b5e8ac91c"
   },
   "outputs": [],
   "source": [
    "df"
   ]
  },
  {
   "cell_type": "markdown",
   "metadata": {
    "id": "TZI5iU7wFb6O"
   },
   "source": [
    "# Calculation"
   ]
  },
  {
   "cell_type": "code",
   "execution_count": 11,
   "metadata": {
    "id": "x1Riglx2Fb6O"
   },
   "outputs": [],
   "source": [
    "# Define a function to display dataframes in parallel\n",
    "from IPython.display import display_html\n",
    "def display_by_side(*args):\n",
    "    html_str=''\n",
    "    for df in args:\n",
    "        html_str+=df.to_html()\n",
    "    display_html(html_str.replace('table','table style=\"display:inline\"'),raw=True)"
   ]
  },
  {
   "cell_type": "code",
   "execution_count": null,
   "metadata": {
    "id": "cgS0MsnGFb6O"
   },
   "outputs": [],
   "source": [
    "df = pd.DataFrame({'KOR':[1, 3], 'USA':[2, 4]})"
   ]
  },
  {
   "cell_type": "code",
   "execution_count": null,
   "metadata": {
    "id": "6ui4W9sPFb6P"
   },
   "outputs": [],
   "source": [
    "df1 = df + 10"
   ]
  },
  {
   "cell_type": "code",
   "execution_count": null,
   "metadata": {
    "id": "A0SMErWnFb6P"
   },
   "outputs": [],
   "source": [
    "df1.columns = ['USA', 'CHN']"
   ]
  },
  {
   "cell_type": "code",
   "execution_count": null,
   "metadata": {
    "colab": {
     "base_uri": "https://localhost:8080/",
     "height": 112
    },
    "id": "i_EoQTidFb6P",
    "outputId": "ad99f3d5-ec50-42a9-d44b-cf4764e5a538"
   },
   "outputs": [],
   "source": [
    "display_by_side(df1, df + df1)"
   ]
  },
  {
   "cell_type": "code",
   "execution_count": null,
   "metadata": {
    "colab": {
     "base_uri": "https://localhost:8080/",
     "height": 207
    },
    "id": "9y3TvVHBFb6P",
    "outputId": "58902dd4-6291-4ef0-8494-edc1e5d9479e"
   },
   "outputs": [],
   "source": [
    "display(df, df.T)"
   ]
  },
  {
   "cell_type": "code",
   "execution_count": null,
   "metadata": {
    "colab": {
     "base_uri": "https://localhost:8080/",
     "height": 112
    },
    "id": "gy-VVs5zFb6P",
    "outputId": "701b5f79-7437-46d4-c33d-7e869e66dd48"
   },
   "outputs": [],
   "source": [
    "df.dot(df.T)"
   ]
  },
  {
   "cell_type": "code",
   "execution_count": null,
   "metadata": {
    "colab": {
     "base_uri": "https://localhost:8080/",
     "height": 112
    },
    "id": "jiUXEJ29Fb6P",
    "outputId": "8cd2e9f2-18c6-491e-bf53-e1c6d8fa6f98"
   },
   "outputs": [],
   "source": [
    "df.T.dot(df)"
   ]
  },
  {
   "cell_type": "code",
   "execution_count": null,
   "metadata": {
    "colab": {
     "base_uri": "https://localhost:8080/",
     "height": 288
    },
    "id": "H1XtL82SFb6Q",
    "outputId": "930a90cf-205f-429e-8e46-8b12f8365468"
   },
   "outputs": [],
   "source": [
    "df.dot(df)"
   ]
  },
  {
   "cell_type": "code",
   "execution_count": null,
   "metadata": {
    "id": "KsbUXKftFb6Q"
   },
   "outputs": [],
   "source": [
    "df1 = pd.DataFrame({'USA':[1, 3], 'CHN':[2, 4]})\n",
    "df2 = pd.DataFrame({'JPN':[2, 4], 'KOR':[6, 8]})"
   ]
  },
  {
   "cell_type": "code",
   "execution_count": null,
   "metadata": {
    "colab": {
     "base_uri": "https://localhost:8080/",
     "height": 207
    },
    "id": "yT7WQIaeFb6Q",
    "outputId": "156dca58-0b6e-4d07-c88f-74b4d37abae4"
   },
   "outputs": [],
   "source": [
    "display(df1, df2)"
   ]
  },
  {
   "cell_type": "code",
   "execution_count": null,
   "metadata": {
    "colab": {
     "base_uri": "https://localhost:8080/",
     "height": 112
    },
    "id": "-uOYUIFgFb6Q",
    "outputId": "fa00a57f-e77c-4a00-ed23-a569a347f85a"
   },
   "outputs": [],
   "source": [
    "pd.concat([df1, df2], axis = 1)"
   ]
  },
  {
   "cell_type": "code",
   "execution_count": null,
   "metadata": {
    "colab": {
     "base_uri": "https://localhost:8080/",
     "height": 175
    },
    "id": "zoE2i4Q7Fb6Q",
    "outputId": "b0a29c03-4813-47d5-afe8-fbfb002261cb"
   },
   "outputs": [],
   "source": [
    "pd.concat([df1, df2], axis = 0)"
   ]
  },
  {
   "cell_type": "markdown",
   "metadata": {
    "id": "1QanSsPDFb6Q"
   },
   "source": [
    "## merge, concat\n",
    "\n"
   ]
  },
  {
   "cell_type": "code",
   "execution_count": null,
   "metadata": {
    "id": "CguyYdjRFb6Q"
   },
   "outputs": [],
   "source": [
    "df2.columns = ['CHN', 'KOR']"
   ]
  },
  {
   "cell_type": "code",
   "execution_count": null,
   "metadata": {
    "colab": {
     "base_uri": "https://localhost:8080/",
     "height": 112
    },
    "id": "UP0uAmN3Fb6R",
    "outputId": "d1f3be48-1455-4723-eb3f-cb0e97e1df75"
   },
   "outputs": [],
   "source": [
    "df1.merge(df2, on = 'CHN', how = 'left')"
   ]
  },
  {
   "cell_type": "markdown",
   "metadata": {
    "id": "Z83FoLYFFb6R"
   },
   "source": [
    "## add, sub, mul, div"
   ]
  },
  {
   "cell_type": "code",
   "execution_count": null,
   "metadata": {
    "colab": {
     "base_uri": "https://localhost:8080/",
     "height": 112
    },
    "id": "nuXeYsyaFb6R",
    "outputId": "e920a7b9-d5e4-476d-93ca-9f580b229375"
   },
   "outputs": [],
   "source": [
    "df['Total'] = df.sum(axis = 1)\n",
    "df"
   ]
  },
  {
   "cell_type": "code",
   "execution_count": null,
   "metadata": {
    "colab": {
     "base_uri": "https://localhost:8080/",
     "height": 112
    },
    "id": "6h2nFaPpFb6R",
    "outputId": "aa3bea56-d4b6-46b7-818f-ceb6076d3e05"
   },
   "outputs": [],
   "source": [
    "df.div(df.Total, axis = 0)"
   ]
  },
  {
   "cell_type": "code",
   "execution_count": null,
   "metadata": {
    "colab": {
     "base_uri": "https://localhost:8080/",
     "height": 112
    },
    "id": "UMO_Zgs1Fb6R",
    "outputId": "af155acf-ce8a-4d82-9ed4-54c388abfcb3"
   },
   "outputs": [],
   "source": [
    "df.div(df.Total, axis = 1)"
   ]
  },
  {
   "cell_type": "markdown",
   "metadata": {
    "id": "Texb31pkFb6U"
   },
   "source": [
    "## apply/applymap/map"
   ]
  },
  {
   "cell_type": "code",
   "execution_count": null,
   "metadata": {
    "id": "RABzpkabFb6U"
   },
   "outputs": [],
   "source": [
    "df = pd.DataFrame({'country':['USA', 'KOR', 'USA', 'KOR'],\n",
    "                   'pop':[1, 2, 3, 4],\n",
    "                   'gdp':[3, 4, 5, 6]},\n",
    "                  index = [16, 16, 17, 17])"
   ]
  },
  {
   "cell_type": "code",
   "execution_count": null,
   "metadata": {
    "colab": {
     "base_uri": "https://localhost:8080/",
     "height": 175
    },
    "id": "qy7ZDNGVFb6U",
    "outputId": "aa107cbf-ff8a-4c90-d4b4-ebd8260a1146"
   },
   "outputs": [],
   "source": [
    "df[['pop', 'gdp']].apply(lambda x: x.div(x.sum()))"
   ]
  },
  {
   "cell_type": "code",
   "execution_count": null,
   "metadata": {
    "colab": {
     "base_uri": "https://localhost:8080/",
     "height": 175
    },
    "id": "j-fk7mzNFb6V",
    "outputId": "600ab638-de7a-49b3-968a-0c7a47f6e45a"
   },
   "outputs": [],
   "source": [
    "df = df[['pop', 'gdp']].apply(lambda x: x.div(x.sum()))\n",
    "df.applymap(lambda x: '{:,.2f}'.format(x))"
   ]
  },
  {
   "cell_type": "markdown",
   "metadata": {
    "id": "AIVC5jL6Fb6W"
   },
   "source": [
    "# time series"
   ]
  },
  {
   "cell_type": "code",
   "execution_count": null,
   "metadata": {
    "id": "e421xR4yFb6W"
   },
   "outputs": [],
   "source": [
    "import numpy as np\n",
    "df = pd.DataFrame(np.random.randint(1, 20, 24).reshape(12, 2), columns=['con', 'gdp'])"
   ]
  },
  {
   "cell_type": "code",
   "execution_count": null,
   "metadata": {
    "colab": {
     "base_uri": "https://localhost:8080/",
     "height": 426
    },
    "id": "XqDVcDx2Fb6W",
    "outputId": "baba9733-01dd-4d17-efde-07ee4e156441"
   },
   "outputs": [],
   "source": [
    "df"
   ]
  },
  {
   "cell_type": "code",
   "execution_count": null,
   "metadata": {
    "id": "gwgF96pWFb6W"
   },
   "outputs": [],
   "source": [
    "df.index = pd.date_range('2017-3-31', '2019-12-31', freq='Q')"
   ]
  },
  {
   "cell_type": "code",
   "execution_count": null,
   "metadata": {
    "colab": {
     "base_uri": "https://localhost:8080/",
     "height": 426
    },
    "id": "lG9j_OCvFb6W",
    "outputId": "a916231e-ccd1-4325-9d35-f472322dc3d2"
   },
   "outputs": [],
   "source": [
    "df"
   ]
  },
  {
   "cell_type": "code",
   "execution_count": null,
   "metadata": {
    "colab": {
     "base_uri": "https://localhost:8080/"
    },
    "id": "4wywtDpnFb6W",
    "outputId": "8dd54182-6758-42ef-80b2-d65426dd998f"
   },
   "outputs": [],
   "source": [
    "type(df.index)"
   ]
  },
  {
   "cell_type": "markdown",
   "metadata": {
    "id": "y0ah28fmRHMb"
   },
   "source": [
    "## resample"
   ]
  },
  {
   "cell_type": "code",
   "execution_count": null,
   "metadata": {
    "colab": {
     "base_uri": "https://localhost:8080/",
     "height": 143
    },
    "id": "KeQtJkTeFb6X",
    "outputId": "152a52bf-9a41-49e6-c64e-d1cd7e0c0123"
   },
   "outputs": [],
   "source": [
    "df.resample('A').sum()"
   ]
  },
  {
   "cell_type": "code",
   "execution_count": null,
   "metadata": {
    "colab": {
     "base_uri": "https://localhost:8080/",
     "height": 143
    },
    "id": "K0m0d_84Fb6X",
    "outputId": "99b1e4f1-8eaa-4868-da08-94143ebc58ae"
   },
   "outputs": [],
   "source": [
    "df.resample('A').last()"
   ]
  },
  {
   "cell_type": "code",
   "execution_count": null,
   "metadata": {
    "colab": {
     "base_uri": "https://localhost:8080/",
     "height": 143
    },
    "id": "shkBcxDFFb6X",
    "outputId": "4e62dd27-df92-4a23-cedd-d8c87657ff34"
   },
   "outputs": [],
   "source": [
    "df.resample('A').mean()"
   ]
  },
  {
   "cell_type": "markdown",
   "metadata": {
    "id": "HQvJHYdUPHbd"
   },
   "source": [
    "## simple graph"
   ]
  },
  {
   "cell_type": "code",
   "execution_count": null,
   "metadata": {
    "colab": {
     "base_uri": "https://localhost:8080/",
     "height": 294
    },
    "id": "fUTUDC33Fb6X",
    "outputId": "f2e10993-bba7-4c90-8bf6-3c503bc48bd5"
   },
   "outputs": [],
   "source": [
    "df.plot()"
   ]
  },
  {
   "cell_type": "code",
   "execution_count": null,
   "metadata": {
    "colab": {
     "base_uri": "https://localhost:8080/",
     "height": 377
    },
    "id": "Mc217b1RFb6X",
    "outputId": "fcd6638b-4ec0-4200-c551-a52cd72c9301"
   },
   "outputs": [],
   "source": [
    "df.plot.bar()"
   ]
  },
  {
   "cell_type": "code",
   "execution_count": null,
   "metadata": {
    "colab": {
     "base_uri": "https://localhost:8080/",
     "height": 294
    },
    "id": "h5ilVq7XFb6X",
    "outputId": "f189eba9-718c-4332-ac52-dd543517e3c3"
   },
   "outputs": [],
   "source": [
    "df.resample('M').interpolate(method='cubic').plot()\n",
    "# ‘nearest’, ‘zero’, ‘slinear’, ‘quadratic’, ‘cubic’, ‘spline’, ‘barycentric’, ‘polynomial’"
   ]
  },
  {
   "cell_type": "code",
   "execution_count": null,
   "metadata": {
    "colab": {
     "base_uri": "https://localhost:8080/",
     "height": 294
    },
    "id": "0-D_RBBxFb6Y",
    "outputId": "ce4450fb-57d2-4522-e9c1-23b506bfdca9"
   },
   "outputs": [],
   "source": [
    "df.plot()\n",
    "# ‘nearest’, ‘zero’, ‘slinear’, ‘quadratic’, ‘cubic’, ‘spline’, ‘barycentric’, ‘polynomial’"
   ]
  },
  {
   "cell_type": "code",
   "execution_count": null,
   "metadata": {
    "id": "rT2pmMfHFb6Y"
   },
   "outputs": [],
   "source": [
    "df = pd.DataFrame({'value':[2, 4, 5, 6], 'date':['20201201', '2019-9-1', '1 jul 2018', '2017q1']})"
   ]
  },
  {
   "cell_type": "code",
   "execution_count": null,
   "metadata": {
    "colab": {
     "base_uri": "https://localhost:8080/",
     "height": 175
    },
    "id": "lnmRFNCgFb6Y",
    "outputId": "2b6a501d-3be9-4e88-cae5-ec7dcea99731"
   },
   "outputs": [],
   "source": [
    "df"
   ]
  },
  {
   "cell_type": "code",
   "execution_count": null,
   "metadata": {
    "id": "OxYNZfJ6Fb6Y"
   },
   "outputs": [],
   "source": [
    "df.date = pd.to_datetime(df.date)"
   ]
  },
  {
   "cell_type": "code",
   "execution_count": null,
   "metadata": {
    "colab": {
     "base_uri": "https://localhost:8080/",
     "height": 175
    },
    "id": "-iK7z3YBFb6Y",
    "outputId": "410f1279-a75a-4593-9453-3de957edecf7"
   },
   "outputs": [],
   "source": [
    "df"
   ]
  },
  {
   "cell_type": "code",
   "execution_count": null,
   "metadata": {
    "id": "qOIIlVeOFb6Y"
   },
   "outputs": [],
   "source": [
    "df = df.set_index('date')"
   ]
  },
  {
   "cell_type": "code",
   "execution_count": null,
   "metadata": {
    "colab": {
     "base_uri": "https://localhost:8080/",
     "height": 206
    },
    "id": "62qIa9ggFb6Z",
    "outputId": "33a7746a-1e9d-49e7-ce81-bda8dddc0c51"
   },
   "outputs": [],
   "source": [
    "df"
   ]
  },
  {
   "cell_type": "markdown",
   "metadata": {
    "id": "ZrtGEUTLFb6Z"
   },
   "source": [
    "- In order to apply functions such as growth rate and difference compared to the previous year as originally intended, the date time index of the data frame must be sorted in order without exception.\n",
    "- Create a data time index for the entire sample period with date_range() and then apply it using reindex(index) of the data frame."
   ]
  },
  {
   "cell_type": "code",
   "execution_count": null,
   "metadata": {
    "colab": {
     "base_uri": "https://localhost:8080/",
     "height": 206
    },
    "id": "l3Xi9XvJFb6Z",
    "outputId": "873f051b-ed91-4035-eebd-c68111262be4"
   },
   "outputs": [],
   "source": [
    "df.pct_change()"
   ]
  },
  {
   "cell_type": "markdown",
   "metadata": {
    "id": "AzapvEsUFb6a"
   },
   "source": [
    "# save/read"
   ]
  },
  {
   "cell_type": "code",
   "execution_count": null,
   "metadata": {
    "colab": {
     "base_uri": "https://localhost:8080/",
     "height": 35
    },
    "id": "XGy5IMEMFb6a",
    "outputId": "bf1aef38-8c7c-46fc-9777-77b52d1b159f"
   },
   "outputs": [],
   "source": [
    "pwd"
   ]
  },
  {
   "cell_type": "code",
   "execution_count": null,
   "metadata": {
    "id": "nPHBnj9fPhxd"
   },
   "outputs": [],
   "source": [
    "import os\n",
    "os.mkdir('pickles')"
   ]
  },
  {
   "cell_type": "markdown",
   "metadata": {
    "id": "HHBvtS69Fb6b"
   },
   "source": [
    "## to_pickle()\n",
    "\n",
    "- Very efficient in python"
   ]
  },
  {
   "cell_type": "code",
   "execution_count": 1,
   "metadata": {
    "colab": {
     "base_uri": "https://localhost:8080/"
    },
    "id": "sudf6dF8Fb6b",
    "outputId": "991ab0a1-9bfe-4748-be3a-df70e80a3de3"
   },
   "outputs": [
    {
     "name": "stdout",
     "output_type": "stream",
     "text": [
      " C 드라이브의 볼륨에는 이름이 없습니다.\n",
      " 볼륨 일련 번호: 449E-841A\n",
      "\n",
      " C:\\Users\\BOK\\Desktop\\Python Basic 디렉터리\n",
      "\n",
      "2024-12-02  오후 05:11    <DIR>          .\n",
      "2024-12-02  오후 05:11    <DIR>          ..\n",
      "2024-12-02  오후 04:54    <DIR>          .ipynb_checkpoints\n",
      "2024-12-03  오전 09:32            35,355 1_1_intro.ipynb\n",
      "2024-12-03  오전 09:42           136,395 1_3_pandas_1.ipynb\n",
      "               2개 파일             171,750 바이트\n",
      "               3개 디렉터리  296,350,523,392 바이트 남음\n"
     ]
    }
   ],
   "source": [
    "ls"
   ]
  },
  {
   "cell_type": "code",
   "execution_count": 3,
   "metadata": {
    "id": "pV312C01Fb6b"
   },
   "outputs": [
    {
     "ename": "NameError",
     "evalue": "name 'df' is not defined",
     "output_type": "error",
     "traceback": [
      "\u001b[1;31m---------------------------------------------------------------------------\u001b[0m",
      "\u001b[1;31mNameError\u001b[0m                                 Traceback (most recent call last)",
      "Cell \u001b[1;32mIn[3], line 1\u001b[0m\n\u001b[1;32m----> 1\u001b[0m df\u001b[38;5;241m.\u001b[39mto_pickle(\u001b[38;5;124m'\u001b[39m\u001b[38;5;124mpickles/df.pkl\u001b[39m\u001b[38;5;124m'\u001b[39m)\n",
      "\u001b[1;31mNameError\u001b[0m: name 'df' is not defined"
     ]
    }
   ],
   "source": [
    "df.to_pickle('pickles/df.pkl')"
   ]
  },
  {
   "cell_type": "code",
   "execution_count": null,
   "metadata": {
    "colab": {
     "base_uri": "https://localhost:8080/"
    },
    "id": "XlqEli4fFb6b",
    "outputId": "556f68e2-878a-41d4-d4f7-7f140d8b7bac"
   },
   "outputs": [],
   "source": [
    "ls pickles/"
   ]
  },
  {
   "cell_type": "code",
   "execution_count": null,
   "metadata": {
    "id": "o0iFuyMiFb6c"
   },
   "outputs": [],
   "source": [
    "df1 = pd.read_pickle('pickles/df.pkl')"
   ]
  },
  {
   "cell_type": "code",
   "execution_count": null,
   "metadata": {
    "colab": {
     "base_uri": "https://localhost:8080/",
     "height": 175
    },
    "id": "Ecr9LGWXFb6c",
    "outputId": "bca8d7bd-9fcd-4aef-af49-7648d1aac746"
   },
   "outputs": [],
   "source": [
    "df1"
   ]
  },
  {
   "cell_type": "markdown",
   "metadata": {
    "id": "FLdjst57Fb6c"
   },
   "source": [
    "## to_excel()"
   ]
  },
  {
   "cell_type": "code",
   "execution_count": null,
   "metadata": {
    "id": "-mZShRYTFb6c"
   },
   "outputs": [],
   "source": [
    "writer = pd.ExcelWriter('dfs.xlsx')\n",
    "df.to_excel(writer,'df')\n",
    "df1.to_excel(writer,'df1')\n",
    "df2.to_excel(writer,'df2')\n",
    "writer.save()"
   ]
  },
  {
   "cell_type": "code",
   "execution_count": null,
   "metadata": {},
   "outputs": [],
   "source": [
    "df.to_excel('dfs1.xlsx')\n",
    "df1.to_excel('dfs2.xlsx',sheet_name='df2')"
   ]
  },
  {
   "cell_type": "markdown",
   "metadata": {
    "id": "cMzkWzHvFb6e"
   },
   "source": [
    "# matplotlib"
   ]
  },
  {
   "cell_type": "code",
   "execution_count": 3,
   "metadata": {
    "id": "S-jEj8aKFb6e"
   },
   "outputs": [],
   "source": [
    "import matplotlib.pyplot as plt"
   ]
  },
  {
   "cell_type": "code",
   "execution_count": 13,
   "metadata": {
    "colab": {
     "base_uri": "https://localhost:8080/",
     "height": 282
    },
    "id": "NXasMp6QFb6e",
    "outputId": "b72b81e9-804e-4eb1-f8d0-cb7810e21420"
   },
   "outputs": [
    {
     "data": {
      "text/plain": [
       "<Axes: >"
      ]
     },
     "execution_count": 13,
     "metadata": {},
     "output_type": "execute_result"
    },
    {
     "data": {
      "image/png": "[encoded data removed]",
      "text/plain": [
       "<Figure size 640x480 with 1 Axes>"
      ]
     },
     "metadata": {},
     "output_type": "display_data"
    }
   ],
   "source": [
    "df = pd.DataFrame([0, 1, 2, 3, 4, 4], columns = ['y'])\n",
    "df.plot()"
   ]
  },
  {
   "cell_type": "code",
   "execution_count": 17,
   "metadata": {
    "colab": {
     "base_uri": "https://localhost:8080/",
     "height": 294
    },
    "id": "6xFyoa4uFb6e",
    "outputId": "56d71ad0-4a28-4b1b-becc-036eaf9b78bc"
   },
   "outputs": [
    {
     "data": {
      "image/png": "[encoded data removed]",
      "text/plain": [
       "<Figure size 1200x400 with 2 Axes>"
      ]
     },
     "metadata": {},
     "output_type": "display_data"
    }
   ],
   "source": [
    "import matplotlib.pyplot as plt\n",
    "\n",
    "fig, ax = plt.subplots(1, 2, figsize=(12, 4))\n",
    "\n",
    "df.plot(ax=ax[0])\n",
    "df.loc[2:].plot(ax=ax[1])\n",
    "ax[1].legend(loc=4, fontsize=18)\n",
    "ax[0].set_title('ax1')\n",
    "fig.suptitle('graph', fontsize=18);"
   ]
  },
  {
   "cell_type": "markdown",
   "metadata": {
    "id": "K4GQbJDoFb6f"
   },
   "source": [
    "## x, y-axis"
   ]
  },
  {
   "cell_type": "code",
   "execution_count": 15,
   "metadata": {
    "colab": {
     "base_uri": "https://localhost:8080/",
     "height": 294
    },
    "id": "4yEmNk-rFb6f",
    "outputId": "e318d407-3036-4c59-f955-075202103308"
   },
   "outputs": [
    {
     "data": {
      "image/png": "[encoded data removed]",
      "text/plain": [
       "<Figure size 1200x400 with 2 Axes>"
      ]
     },
     "metadata": {},
     "output_type": "display_data"
    }
   ],
   "source": [
    "from matplotlib.ticker import FuncFormatter as FF\n",
    "\n",
    "fig, ax = plt.subplots(1, 2, figsize=(12, 4))\n",
    "\n",
    "df.plot(ax=ax[0])\n",
    "df.loc[2:].plot(ax=ax[1])\n",
    "ax[1].legend(loc=4, fontsize=18)\n",
    "ax[0].set_title('ax1')\n",
    "fig.suptitle('graph', fontsize=18);\n",
    "\n",
    "dp2 = lambda x, p: '{:,.2f}'.format(x)\n",
    "dp0 = lambda x, p: '{:,.0f}'.format(x)\n",
    "ax[1].yaxis.set_major_formatter(FF(dp2))\n",
    "ax[1].xaxis.set_major_formatter(FF(dp0))"
   ]
  },
  {
   "cell_type": "code",
   "execution_count": null,
   "metadata": {},
   "outputs": [],
   "source": []
  }
 ],
 "metadata": {
  "colab": {
   "collapsed_sections": [
    "EvgmlRAkFb6V",
    "WVXOvyFEFb6V",
    "HHBvtS69Fb6b",
    "Aa4YU84eFb6c",
    "M42uPNdAFb6c",
    "FLdjst57Fb6c",
    "K4GQbJDoFb6f",
    "oPqcvGzsFb6f",
    "aNN1r1O2Fb6g"
   ],
   "include_colab_link": true,
   "name": "pandas.ipynb",
   "provenance": [],
   "toc_visible": true
  },
  "kernelspec": {
   "display_name": "Python 3 (ipykernel)",
   "language": "python",
   "name": "python3"
  },
  "language_info": {
   "codemirror_mode": {
    "name": "ipython",
    "version": 3
   },
   "file_extension": ".py",
   "mimetype": "text/x-python",
   "name": "python",
   "nbconvert_exporter": "python",
   "pygments_lexer": "ipython3",
   "version": "3.12.7"
  },
  "widgets": {
   "application/vnd.jupyter.widget-state+json": {
    "state": {},
    "version_major": 2,
    "version_minor": 0
   }
  }
 },
 "nbformat": 4,
 "nbformat_minor": 4
}
